{
 "cells": [
  {
   "cell_type": "markdown",
   "metadata": {},
   "source": [
    "## Terminologie \n",
    "\n",
    "**Nombres pseudo-aléatoires**: consiste en une suite de nombre ayant certaines propriétés mathématiques. Après une certaine période, on revient au debut de la suite. Le but est que la période soit la plus longue possible et la répartition la plus uniforme possible.\n",
    "\n",
    "**Nombres vraiment aléatoires**: Ils sont générés via un facteur externe tel que les mouvements de souris, la pression atmosphérique,...\n",
    "\n",
    "## Génération de nombre pseudo aléatoires \n",
    "### Distribution uniforme (entre 0 et 1)\n",
    "\n",
    "#### Modulo \n",
    "\n",
    "$$\n",
    "    i_{n+1} = (a i_n + c) \\% M\n",
    "$$\n",
    "\n",
    "**keypoint** : la distribution devient plus uniforme si $a$ et $M$ sont grands."
   ]
  },
  {
   "cell_type": "code",
   "execution_count": 43,
   "metadata": {},
   "outputs": [
    {
     "data": {
      "text/plain": [
       "[<matplotlib.lines.Line2D at 0x117910d10>]"
      ]
     },
     "execution_count": 43,
     "metadata": {},
     "output_type": "execute_result"
    },
    {
     "data": {
      "image/png": "[encoded data removed]",
      "text/plain": [
       "<Figure size 432x288 with 1 Axes>"
      ]
     },
     "metadata": {
      "needs_background": "light"
     },
     "output_type": "display_data"
    }
   ],
   "source": [
    "import matplotlib.pyplot as plt\n",
    "\n",
    "def random_modulo(n, seed, a, c, M):\n",
    "    numbers = []\n",
    "    i = seed\n",
    "    for k in range(n):\n",
    "        i_k = ((a * i) + c) % M\n",
    "        numbers.append(i_k / M)\n",
    "    \n",
    "    return numbers\n",
    "        \n",
    "random_list = random_modulo(n = 1000, seed=1, a=10, c=7, M=10)\n",
    "plt.plot(range(1000), random_list)\n",
    "#plt.hist(random_list, bins=30, ec =\"black\")"
   ]
  },
  {
   "cell_type": "markdown",
   "metadata": {},
   "source": [
    "### Distribution arbitraire \n",
    "\n",
    "**But**: transformer une distribution uniforme en une distribution arbitraire\n",
    "\n",
    "#### Méthode de rejet :\n",
    "\n",
    "On prend une fonction $f$ qui sera la forme de notre distribution (ex: $e^{-x^2/2}$)\n",
    "\n",
    "On tire chaque fois 2 nombres :\n",
    "\n",
    "- un nombre $x_0$ qui appartient au domaine de $f$. \n",
    "\n",
    "/!\\ Si le domaine est infini, on doit faire un changement de variable pour passer en domaine fini.\n",
    "\n",
    "- un nombre $y$ compris entre $0$ et $M$ (max de $f$).\n",
    "\n",
    "Si $y \\geq f(x_0)$, on le rejette. Sinon on le garde.\n",
    "\n",
    "**Efficacité**: $E = \\frac{\\text{nombre de points gardés}}{\\text{nombre de points tirés}} = \\frac{\\int_a^b f(x)dx}{M(b-a)}$\n",
    "\n",
    "Par conséquent, plus la forme de la fonction est piquée, moins cette méthode est efficace."
   ]
  },
  {
   "cell_type": "code",
   "execution_count": 38,
   "metadata": {},
   "outputs": [
    {
     "name": "stdout",
     "output_type": "stream",
     "text": [
      "efficacité: 66.827%\n"
     ]
    },
    {
     "data": {
      "image/png": "[encoded data removed]",
      "text/plain": [
       "<Figure size 432x288 with 1 Axes>"
      ]
     },
     "metadata": {
      "needs_background": "light"
     },
     "output_type": "display_data"
    }
   ],
   "source": [
    "import numpy as np\n",
    "import random\n",
    "import math\n",
    "\n",
    "\n",
    "def gaussian(x) :\n",
    "    return math.exp(-(x**2) / 2)\n",
    "\n",
    "\"\"\"\n",
    "f : fonction\n",
    "n : nombre de nombres à générer\n",
    "a : borne inférieure\n",
    "b : borne supérieure\n",
    "\"\"\"\n",
    "def rejet(f, n, a, b, M):\n",
    "    numbers = []\n",
    "    accepted = 0\n",
    "    for i in range(n):\n",
    "        x = random.uniform(a, b)\n",
    "        y = random.uniform(0, M)\n",
    "    \n",
    "        if (y >= f(x)):\n",
    "            continue\n",
    "        \n",
    "        numbers.append(x)\n",
    "        accepted += 1\n",
    "        \n",
    "    return numbers, accepted/n\n",
    "\n",
    "numbers, eff = rejet(math.sqrt, n = 100000, a=0, b=4, M=2)\n",
    "plt.hist(numbers, bins = 30, ec = \"black\")\n",
    "print(f\"efficacité: {eff * 100}%\")"
   ]
  },
  {
   "cell_type": "markdown",
   "metadata": {},
   "source": [
    "#### Transformée inverse \n",
    "\n",
    "On trouve une transformation $T$ qui transforme un échantillon $U$ uniforme entre 0 et 1 en un échantillon $X$ distribué selon $f(x)$ entre $a$ et $b$.\n",
    "\n",
    "On utilise la fonction de répartition : \n",
    "\n",
    "$$F_X(x) = \\int_a^x f(x')dx' = P(X < x)$$\n",
    "\n",
    "$$ T(x) = F_X^{-1}(x)$$\n",
    "\n",
    "**exemple**:\n",
    "\n",
    "$f(x) = \\frac{1}{\\lambda}e^{-\\frac{x}{\\lambda}} \\in [0, + \\infty]$\n",
    "\n",
    "$$F_X(x) = \\int_0^x \\frac{1}{\\lambda}e^{-\\frac{x'}{\\lambda}} dx' = \\left[-e^{-\\frac{x'}{\\lambda}}\\right]_0^x = 1 - e^{-\\frac{x}{\\lambda}}$$\n",
    "\n",
    "$$ T(u) = F_X^{-1}(x) = - \\lambda ln(1-u)$$\n",
    "\n",
    "**keypoint**: $u$ est un nombre aléatoire $\\in [0, 1]$"
   ]
  },
  {
   "cell_type": "code",
   "execution_count": 48,
   "metadata": {},
   "outputs": [
    {
     "data": {
      "text/plain": [
       "(array([3.3348e+04, 2.2123e+04, 1.4813e+04, 9.8640e+03, 6.6220e+03,\n",
       "        4.4160e+03, 2.9040e+03, 1.9490e+03, 1.3570e+03, 8.9900e+02,\n",
       "        5.7000e+02, 3.7100e+02, 2.4700e+02, 1.6000e+02, 1.2300e+02,\n",
       "        7.7000e+01, 5.3000e+01, 3.1000e+01, 2.6000e+01, 1.2000e+01,\n",
       "        9.0000e+00, 6.0000e+00, 7.0000e+00, 3.0000e+00, 3.0000e+00,\n",
       "        2.0000e+00, 3.0000e+00, 1.0000e+00, 0.0000e+00, 1.0000e+00]),\n",
       " array([2.17558137e-05, 4.04864120e-01, 8.09706485e-01, 1.21454885e+00,\n",
       "        1.61939121e+00, 2.02423358e+00, 2.42907594e+00, 2.83391831e+00,\n",
       "        3.23876067e+00, 3.64360304e+00, 4.04844540e+00, 4.45328776e+00,\n",
       "        4.85813013e+00, 5.26297249e+00, 5.66781486e+00, 6.07265722e+00,\n",
       "        6.47749959e+00, 6.88234195e+00, 7.28718432e+00, 7.69202668e+00,\n",
       "        8.09686904e+00, 8.50171141e+00, 8.90655377e+00, 9.31139614e+00,\n",
       "        9.71623850e+00, 1.01210809e+01, 1.05259232e+01, 1.09307656e+01,\n",
       "        1.13356080e+01, 1.17404503e+01, 1.21452927e+01]),\n",
       " <a list of 30 Patch objects>)"
      ]
     },
     "execution_count": 48,
     "metadata": {},
     "output_type": "execute_result"
    },
    {
     "data": {
      "image/png": "[encoded data removed]",
      "text/plain": [
       "<Figure size 432x288 with 1 Axes>"
      ]
     },
     "metadata": {
      "needs_background": "light"
     },
     "output_type": "display_data"
    }
   ],
   "source": [
    "import random\n",
    "from math import log\n",
    "\n",
    "def t_inv(u, lamb):\n",
    "    return - lamb * log(1-u)\n",
    "\n",
    "def rand(n):\n",
    "    numbers = []\n",
    "    for i in range(n):\n",
    "        y = t_inv(u = random.random(), lamb = 1)\n",
    "        numbers.append(y)\n",
    "    return numbers\n",
    "\n",
    "plt.hist(rand(100000), bins=30, ec=\"black\")"
   ]
  },
  {
   "cell_type": "markdown",
   "metadata": {},
   "source": [
    "#### Méthode combinée\n",
    "\n",
    "Combine la méthode du rejet et de la transformée inverse.\n",
    "On utilise la méthode du rejet avec une distribution arbitraire $g(x)$\n",
    "\n",
    "- On multiplie $g(x)$ par $M$ tel que $f(x) < Mg(x)$ sur l'intervalle.\n",
    "- On génère $x,y$ avec _$x$ selon $g$_ et _$y$ uniforme_.\n",
    "- On garde $x$ si $y < \\frac{f(x)}{Mg(x)}$\n",
    "\n",
    "**exemple**:\n",
    "\n",
    "$$f(x) = \\frac{h(x)}{x} \\quad \\text{avec $h(x) \\leq 1$}$$\n",
    "\n",
    "Donc $$f(x) \\leq \\frac{1}{x} = g(x)$$\n",
    "\n",
    "Prenons l'intervalle $[1, 20]$ et la fonction : $$f(x) = \\frac{sin^2(x)}{x}$$\n",
    "\n",
    "On a donc que :\n",
    "\n",
    "$$ sin^2(x) \\leq 1$$\n",
    "\n",
    "On calcule la transformation T :\n",
    "\n",
    "$$ G(x) = \\int_1^x g(x')dx' = ln(x) \\implies G^{-1}(x) = T(u) = e^u$$\n",
    "\n",
    "Maintenant, on veut que $G(x_{max}) = G(20) = 1$ donc on doit multiplier $g(x)$ par un facteur $\\lambda$ et donc $\\lambda = \\frac{1}{ln(20)}$\n",
    "\n",
    "On a donc : \n",
    "\n",
    "$$ T(u) = e^{uln(20)} = 20^u$$\n",
    "\n",
    "Ensuite, on peut prendre $M = \\frac{1}{\\lambda}$ :\n",
    "\n",
    "$$ f(x) \\leq \\frac{1}{x} = Mg(x)$$\n"
   ]
  },
  {
   "cell_type": "code",
   "execution_count": null,
   "metadata": {},
   "outputs": [],
   "source": [
    "import math\n",
    "import random\n",
    "import matplotlib.pyplot as plt\n",
    "\n",
    "deg g(a, b):\n",
    "    pass\n",
    "    #return math.exp(random.uniform(a, b))"
   ]
  }
 ],
 "metadata": {
  "kernelspec": {
   "display_name": "Python 3",
   "language": "python",
   "name": "python3"
  },
  "language_info": {
   "codemirror_mode": {
    "name": "ipython",
    "version": 3
   },
   "file_extension": ".py",
   "mimetype": "text/x-python",
   "name": "python",
   "nbconvert_exporter": "python",
   "pygments_lexer": "ipython3",
   "version": "3.7.4"
  }
 },
 "nbformat": 4,
 "nbformat_minor": 4
}
