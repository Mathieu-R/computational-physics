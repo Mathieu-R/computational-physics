{
 "cells": [
  {
   "source": [
    "On se propose de résoudre l'EDO de l'oscillateur harmonique,\n",
    "\n",
    "$$\n",
    "\\dot{x} = Mx, \\quad M = \\begin{pmatrix}0 & -1 \\\\ 1 & 0\\end{pmatrix}\n",
    "$$\n",
    "\n",
    "On écrit le système discrètisé pour Euler avant,\n",
    "$$\n",
    "\\dot{x} \\approx \\frac{x_{i+1} - x_{i}}{\\Delta t} \\implies x_{i+1} = x_{i} + \\Delta t \\dot{x}\n",
    "$$\n",
    "\n",
    "$$\n",
    "\\begin{align}\n",
    "  x_{i+1} \n",
    "    &= x_{i} + \\Delta t \\cdot Mx_{i} \\\\\n",
    "    &= x_{i}(1 + \\Delta t \\cdot M)\n",
    "\\end{align}\n",
    "$$"
   ],
   "cell_type": "markdown",
   "metadata": {}
  },
  {
   "cell_type": "code",
   "execution_count": null,
   "id": "retired-satellite",
   "metadata": {},
   "outputs": [],
   "source": [
    "%matplotlib widget\n",
    "import numpy as np\n",
    "import matplotlib.pyplot as plt\n",
    "\n",
    "t0 = 0\n",
    "tf = 100\n",
    "\n",
    "deltaT = 0.1\n",
    "nt = int(tf/deltaT)\n",
    "\n",
    "t_mesh = np.linspace(start=t0, stop=tf, num=nt)\n",
    "\n",
    "x_forward_euler = np.ones((nt))\n",
    "x_backward_euler = np.ones((nt))\n",
    "x_centered_euler = np.ones((nt))\n",
    "\n",
    "\"\"\"\n",
    "@param: t: time, x: [x_1, x_2] = [x, \\dot{x}]\n",
    "\"\"\"\n",
    "def harmonic_oscillator_matrix():\n",
    "    return np.array([0, -1], [1, 0])\n",
    "\n",
    "def forward_euler(x, deltaT, *args):\n",
    "    x[t+1] = x[t] * (1 + deltaT * harmonic_oscillator_matrix())\n",
    "    \n",
    "def backward_euler(x, deltaT, *args):\n",
    "    # TODO: inverse matrix np.linag.inv\n",
    "    pass\n",
    "\n",
    "def centered_euler(x, deltaT, *args):\n",
    "    pass\n",
    "\n",
    "for t in range(0:nt):\n",
    "    x = forward_euler(x0, deltaT)\n",
    "    x0 = x \n",
    "\n",
    "plt.plot(x)\n"
   ]
  }
 ],
 "metadata": {
  "kernelspec": {
   "display_name": "Python 3",
   "language": "python",
   "name": "python3"
  },
  "language_info": {
   "codemirror_mode": {
    "name": "ipython",
    "version": 3
   },
   "file_extension": ".py",
   "mimetype": "text/x-python",
   "name": "python",
   "nbconvert_exporter": "python",
   "pygments_lexer": "ipython3",
   "version": "3.9.1-final"
  }
 },
 "nbformat": 4,
 "nbformat_minor": 5
}