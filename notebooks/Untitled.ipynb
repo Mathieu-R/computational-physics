{
 "cells": [
  {
   "cell_type": "code",
   "execution_count": 5,
   "id": "innocent-coupon",
   "metadata": {},
   "outputs": [],
   "source": [
    "import numpy as np\n",
    "import matplotlib.pyplot as plt\n",
    "\n",
    "# rod size: \\Gamma = [0,1]\n",
    "width = 1.\n",
    "# time max\n",
    "tmax = 100\n",
    "\n",
    "# space and time intervals\n",
    "dx = 0.1 \n",
    "dt = 0.1 \n",
    "\n",
    "#\n",
    "nx = int(width/dx)\n",
    "nt = int(tmax/dt)\n",
    "\n",
    "# lambda wave parameter\n",
    "lamb = 0.1\n",
    "\n",
    "# space and time meshes\n",
    "x_mesh = np.linspace(start=0, stop=1, num=nx)\n",
    "t_mesh = np.linspace(start=0, stop=tmax, num=nt)\n",
    "\n",
    "# initial temperature\n",
    "u0 = 0. \n",
    "\n",
    "# solution mesh\n",
    "u = np.ones((nx+1))\n",
    "\n",
    "# set initial condition\n",
    "\n",
    "\n",
    "def initial_temp(x):\n",
    "    return np.sin(2 * np.pi * x)\n",
    "\n",
    "def A():\n",
    "    pass \n",
    "\n",
    "def forward_euler(u):\n",
    "    for j in range (0,nt):\n",
    "        u = A() * u\n",
    "        \n",
    "        # set boundary conditions\n",
    "        u[0] = u[nx] = 0 "
   ]
  },
  {
   "cell_type": "code",
   "execution_count": 14,
   "id": "logical-oklahoma",
   "metadata": {},
   "outputs": [
    {
     "name": "stderr",
     "output_type": "stream",
     "text": [
      "<ipython-input-14-04ece8e2b447>:3: VisibleDeprecationWarning: Creating an ndarray from ragged nested sequences (which is a list-or-tuple of lists-or-tuples-or ndarrays with different lengths or shapes) is deprecated. If you meant to do this, you must specify 'dtype=object' when creating the ndarray.\n",
      "  diagonals = np.array([lamb * np.ones(nx-1), (1 - 2 * lamb) * np.ones(nx) , lamb * np.ones(nx-1)])\n"
     ]
    },
    {
     "ename": "ValueError",
     "evalue": "Diagonal length (index 1: 10 at offset 0) does not agree with matrix size (11, 11).",
     "output_type": "error",
     "traceback": [
      "\u001b[0;31m---------------------------------------------------------------------------\u001b[0m",
      "\u001b[0;31mValueError\u001b[0m                                Traceback (most recent call last)",
      "\u001b[0;32m~/Lab/computational-physics/env/lib/python3.9/site-packages/scipy/sparse/construct.py\u001b[0m in \u001b[0;36mdiags\u001b[0;34m(diagonals, offsets, shape, format, dtype)\u001b[0m\n\u001b[1;32m    176\u001b[0m         \u001b[0;32mtry\u001b[0m\u001b[0;34m:\u001b[0m\u001b[0;34m\u001b[0m\u001b[0;34m\u001b[0m\u001b[0m\n\u001b[0;32m--> 177\u001b[0;31m             \u001b[0mdata_arr\u001b[0m\u001b[0;34m[\u001b[0m\u001b[0mj\u001b[0m\u001b[0;34m,\u001b[0m \u001b[0mk\u001b[0m\u001b[0;34m:\u001b[0m\u001b[0mk\u001b[0m\u001b[0;34m+\u001b[0m\u001b[0mlength\u001b[0m\u001b[0;34m]\u001b[0m \u001b[0;34m=\u001b[0m \u001b[0mdiagonal\u001b[0m\u001b[0;34m[\u001b[0m\u001b[0;34m...\u001b[0m\u001b[0;34m,\u001b[0m\u001b[0;34m:\u001b[0m\u001b[0mlength\u001b[0m\u001b[0;34m]\u001b[0m\u001b[0;34m\u001b[0m\u001b[0;34m\u001b[0m\u001b[0m\n\u001b[0m\u001b[1;32m    178\u001b[0m         \u001b[0;32mexcept\u001b[0m \u001b[0mValueError\u001b[0m \u001b[0;32mas\u001b[0m \u001b[0me\u001b[0m\u001b[0;34m:\u001b[0m\u001b[0;34m\u001b[0m\u001b[0;34m\u001b[0m\u001b[0m\n",
      "\u001b[0;31mValueError\u001b[0m: could not broadcast input array from shape (10,) into shape (11,)",
      "\nThe above exception was the direct cause of the following exception:\n",
      "\u001b[0;31mValueError\u001b[0m                                Traceback (most recent call last)",
      "\u001b[0;32m<ipython-input-14-04ece8e2b447>\u001b[0m in \u001b[0;36m<module>\u001b[0;34m\u001b[0m\n\u001b[1;32m      4\u001b[0m \u001b[0moffsets\u001b[0m \u001b[0;34m=\u001b[0m \u001b[0;34m[\u001b[0m\u001b[0;34m-\u001b[0m\u001b[0;36m1\u001b[0m\u001b[0;34m,\u001b[0m\u001b[0;36m0\u001b[0m\u001b[0;34m,\u001b[0m\u001b[0;36m1\u001b[0m\u001b[0;34m]\u001b[0m\u001b[0;34m\u001b[0m\u001b[0;34m\u001b[0m\u001b[0m\n\u001b[1;32m      5\u001b[0m \u001b[0;34m\u001b[0m\u001b[0m\n\u001b[0;32m----> 6\u001b[0;31m \u001b[0mdiags\u001b[0m\u001b[0;34m(\u001b[0m\u001b[0mk\u001b[0m\u001b[0;34m,\u001b[0m \u001b[0moffsets\u001b[0m\u001b[0;34m)\u001b[0m\u001b[0;34m\u001b[0m\u001b[0;34m\u001b[0m\u001b[0m\n\u001b[0m",
      "\u001b[0;32m~/Lab/computational-physics/env/lib/python3.9/site-packages/scipy/sparse/construct.py\u001b[0m in \u001b[0;36mdiags\u001b[0;34m(diagonals, offsets, shape, format, dtype)\u001b[0m\n\u001b[1;32m    178\u001b[0m         \u001b[0;32mexcept\u001b[0m \u001b[0mValueError\u001b[0m \u001b[0;32mas\u001b[0m \u001b[0me\u001b[0m\u001b[0;34m:\u001b[0m\u001b[0;34m\u001b[0m\u001b[0;34m\u001b[0m\u001b[0m\n\u001b[1;32m    179\u001b[0m             \u001b[0;32mif\u001b[0m \u001b[0mlen\u001b[0m\u001b[0;34m(\u001b[0m\u001b[0mdiagonal\u001b[0m\u001b[0;34m)\u001b[0m \u001b[0;34m!=\u001b[0m \u001b[0mlength\u001b[0m \u001b[0;32mand\u001b[0m \u001b[0mlen\u001b[0m\u001b[0;34m(\u001b[0m\u001b[0mdiagonal\u001b[0m\u001b[0;34m)\u001b[0m \u001b[0;34m!=\u001b[0m \u001b[0;36m1\u001b[0m\u001b[0;34m:\u001b[0m\u001b[0;34m\u001b[0m\u001b[0;34m\u001b[0m\u001b[0m\n\u001b[0;32m--> 180\u001b[0;31m                 raise ValueError(\n\u001b[0m\u001b[1;32m    181\u001b[0m                     \u001b[0;34m\"Diagonal length (index %d: %d at offset %d) does not \"\u001b[0m\u001b[0;34m\u001b[0m\u001b[0;34m\u001b[0m\u001b[0m\n\u001b[1;32m    182\u001b[0m                     \"agree with matrix size (%d, %d).\" % (\n",
      "\u001b[0;31mValueError\u001b[0m: Diagonal length (index 1: 10 at offset 0) does not agree with matrix size (11, 11)."
     ]
    }
   ],
   "source": [
    "from scipy.sparse import diags\n",
    "\n",
    "diagonals = np.array([lamb * np.ones(nx-1), (1 - 2 * lamb) * np.ones(nx) , lamb * np.ones(nx-1)])\n",
    "offsets = [-1,0,1]\n",
    "\n",
    "diags(k, offsets)"
   ]
  },
  {
   "cell_type": "code",
   "execution_count": null,
   "id": "perfect-compound",
   "metadata": {},
   "outputs": [],
   "source": []
  }
 ],
 "metadata": {
  "kernelspec": {
   "display_name": "env",
   "language": "python",
   "name": "env"
  },
  "language_info": {
   "codemirror_mode": {
    "name": "ipython",
    "version": 3
   },
   "file_extension": ".py",
   "mimetype": "text/x-python",
   "name": "python",
   "nbconvert_exporter": "python",
   "pygments_lexer": "ipython3",
   "version": "3.9.2"
  }
 },
 "nbformat": 4,
 "nbformat_minor": 5
}
