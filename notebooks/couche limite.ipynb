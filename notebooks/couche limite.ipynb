{
 "cells": [
  {
   "cell_type": "markdown",
   "id": "engaged-threshold",
   "metadata": {},
   "source": [
    "On se propose de résoudre l'équation suivante,\n",
    "\n",
    "$$\n",
    " \\epsilon \\frac{d^2y}{dx^2} - x^2 \\frac{dy}{dx} - y = 0, \\quad \\epsilon = 10^{-2}\n",
    "$$\n",
    "\n",
    "sur le domaine $x \\in [0,1]$\n",
    "\n",
    "Les conditions aux bords sont $y(0) = y(1) = 1$\n",
    "\n",
    "### Méthode numérique\n",
    "\n",
    "On utilise une méthode aux différences finies afin de simuler cette équation.\n",
    "Réécrivons tout d'abord l'EDO sous forme discrétisée,\n",
    "\n",
    "$$\n",
    " \\epsilon y_{xx}(x_i, t_j) - (x_i)^2 y_{x}(x_i, t_j) - y = 0\n",
    "$$\n",
    "\n",
    "On prend un schéma Leapfrog pour les dérivées spatiales\n",
    "$$\n",
    " y_{xx}(x_i, t_j) \\approx \\frac{y(x_{i+1}, t_j) - 2y(x_{i}, t_j) + y_(x_{i-1}, t_j)}{(\\Delta X)^2}\n",
    "$$\n",
    "\n",
    "$$\n",
    " y_{x}(x_i, t_j) \\approx \\frac{y(x_{i+1}, t_j) - 2y(x_{i}, t_j) + y(x_{i-1}, t_j)}{(\\Delta X)}\n",
    "$$\n",
    "\n",
    "Le système discrétisé devient,\n",
    "$$\n",
    " \\epsilon \\frac{y(x_{i+1}, t_j) - 2y(x_{i}, t_j) + y_(x_{i-1}, t_j)}{(\\Delta X)^2} - (x_i)^2 \\frac{y(x_{i+1}, t_j) - 2y(x_{i}, t_j) + y(x_{i-1}, t_j)}{(\\Delta X)} = y(x_i, t_j)\n",
    "$$"
   ]
  },
  {
   "cell_type": "code",
   "execution_count": null,
   "id": "worst-suspect",
   "metadata": {},
   "outputs": [],
   "source": [
    "import numpy as np\n",
    "import matplotlib.pyplot as plt\n",
    "\n",
    "epsilon = 10e-2\n",
    "\n",
    "length = 1. \n",
    "dx = 0.01\n",
    "\n",
    "nx = 100\n",
    "x = np.linspace(start=0; stop=1, num=nx)\n",
    "\n",
    "alpha = - 2 - ((dx ** 2) / epsilon) \n",
    "beta = 1 - ((dx / 2 * epsilon) * x)\n",
    "gamma = 1 + ((dx / 2 * epsilon) * x)\n"
   ]
  }
 ],
 "metadata": {
  "kernelspec": {
   "display_name": "env",
   "language": "python",
   "name": "env"
  },
  "language_info": {
   "codemirror_mode": {
    "name": "ipython",
    "version": 3
   },
   "file_extension": ".py",
   "mimetype": "text/x-python",
   "name": "python",
   "nbconvert_exporter": "python",
   "pygments_lexer": "ipython3",
   "version": "3.9.1"
  }
 },
 "nbformat": 4,
 "nbformat_minor": 5
}
