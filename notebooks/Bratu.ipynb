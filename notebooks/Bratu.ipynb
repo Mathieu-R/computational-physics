{
 "cells": [
  {
   "cell_type": "code",
   "execution_count": null,
   "id": "unlikely-virginia",
   "metadata": {},
   "outputs": [],
   "source": [
    "import numpy as np\n",
    "\n",
    "ny = 100\n",
    "dx = \n",
    "\n",
    "np.linspace(0,1,100)\n",
    "y = np.zeros((2, ny))\n",
    "\n",
    "# guess\n",
    "y[:,0] = 0.   \n",
    "\n",
    "def Jac(y_i):\n",
    "    return np.array([\n",
    "        [np.exp(-y_i[0])], \n",
    "        [-y[0] * np.exp(-y[0])]\n",
    "    ])\n",
    "\n",
    "def fun(y, i):\n",
    "    return y[:,i+1] - 2*y[:,i] + y[:,i-1] + (dy ** 2) * np.exp(y[:,i])\n",
    "\n",
    "def newton():\n",
    "    for i in range(0:ny):\n",
    "        y[:,i] - np.inv(Jac(y[:,i])) * fun(y, i)"
   ]
  }
 ],
 "metadata": {
  "kernelspec": {
   "display_name": "env",
   "language": "python",
   "name": "env"
  },
  "language_info": {
   "codemirror_mode": {
    "name": "ipython",
    "version": 3
   },
   "file_extension": ".py",
   "mimetype": "text/x-python",
   "name": "python",
   "nbconvert_exporter": "python",
   "pygments_lexer": "ipython3",
   "version": "3.9.2"
  }
 },
 "nbformat": 4,
 "nbformat_minor": 5
}
