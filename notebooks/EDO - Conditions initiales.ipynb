{
 "cells": [
  {
   "cell_type": "markdown",
   "id": "bigger-thompson",
   "metadata": {},
   "source": [
    "### Décroissance radioactive et schémas d'Euler\n",
    "\n",
    "Dans cet exercice, on cherche à montrer que dans le cas de l'EDO de la décroissance radioactive, le schéma d'**Euler avant** sous-estime la quantité de produit radioactif, l'**Euler arrière** le surestime et l'**Euler centré** est correct au 1er ordre.\n",
    "\n",
    "On rappelle l'EDO de la décroissance radioactive :\n",
    "$$\n",
    "\\dot{x} = -\\lambda x \\equiv f(x,t)\n",
    "$$\n",
    "\n",
    "La solution est obtenue par séparation des variables :\n",
    "$$\n",
    "x(t) = C_0e^{\\lambda t}\n",
    "$$"
   ]
  },
  {
   "cell_type": "code",
   "execution_count": 2,
   "id": "affected-theater",
   "metadata": {},
   "outputs": [
    {
     "ename": "ModuleNotFoundError",
     "evalue": "No module named 'numpy'",
     "output_type": "error",
     "traceback": [
      "\u001b[0;31m---------------------------------------------------------------------------\u001b[0m",
      "\u001b[0;31mModuleNotFoundError\u001b[0m                       Traceback (most recent call last)",
      "\u001b[0;32m<ipython-input-2-b88bf971af83>\u001b[0m in \u001b[0;36m<module>\u001b[0;34m\u001b[0m\n\u001b[0;32m----> 1\u001b[0;31m \u001b[0;32mimport\u001b[0m \u001b[0mnumpy\u001b[0m \u001b[0;32mas\u001b[0m \u001b[0mnp\u001b[0m\u001b[0;34m\u001b[0m\u001b[0;34m\u001b[0m\u001b[0m\n\u001b[0m\u001b[1;32m      2\u001b[0m \u001b[0;32mimport\u001b[0m \u001b[0mmatplotlib\u001b[0m\u001b[0;34m.\u001b[0m\u001b[0mpyplot\u001b[0m \u001b[0;32mas\u001b[0m \u001b[0mplt\u001b[0m\u001b[0;34m\u001b[0m\u001b[0;34m\u001b[0m\u001b[0m\n\u001b[1;32m      3\u001b[0m \u001b[0;34m\u001b[0m\u001b[0m\n\u001b[1;32m      4\u001b[0m \u001b[0mCI\u001b[0m \u001b[0;34m=\u001b[0m \u001b[0;36m500\u001b[0m\u001b[0;34m\u001b[0m\u001b[0;34m\u001b[0m\u001b[0m\n\u001b[1;32m      5\u001b[0m \u001b[0mLAMBDA\u001b[0m \u001b[0;34m=\u001b[0m \u001b[0;36m1\u001b[0m\u001b[0;34m\u001b[0m\u001b[0;34m\u001b[0m\u001b[0m\n",
      "\u001b[0;31mModuleNotFoundError\u001b[0m: No module named 'numpy'"
     ]
    }
   ],
   "source": [
    "import numpy as np\n",
    "import matplotlib.pyplot as plt\n",
    "\n",
    "CI = 500\n",
    "LAMBDA = 1\n",
    "\n",
    "TITLE = \"Décroissance radioactive\"\n",
    "EDO_LEGENDS = [\"\"]\n",
    "\n",
    "t0 = 0\n",
    "tN = 100\n",
    "time_step = 5\n",
    "\n",
    "time_range = np.arange(t0, tN + time_step, time_step)\n",
    "dataset = np.zeros([len(time_range), 1])\n",
    "\n",
    "def edo_radio(x, t):\n",
    "    return (-LAMBDA*x)\n",
    "\n",
    "def forward_euler(edo, xn, h):\n",
    "    return xn + h*edo(xn)\n",
    "\n",
    "def backward_euler(edo, xn, h):\n",
    "    return xn + h*edo(xn)\n",
    "\n",
    "def centered_euler(edo, xn, h):\n",
    "    return xn + (h/2)*edo()\n",
    "\n",
    "def plot(self): \n",
    "    plt.plot(time_range, dataset)\n",
    "    plt.title(TITLE)\n",
    "    plt.legend(EDO_LEGENDS, loc=\"upper right\")\n",
    "    plt.xlabel(\"temps [s]\") \n",
    "    plt.ylabel(\"nombre de noyaux radioactifs\")\n",
    "    plt.show()\n",
    "    \n",
    "def init():\n",
    "    for t in np.arange(t0, tN, time_step):\n",
    "        results = [\n",
    "            forward_euler(edo, dataset, time_step), \n",
    "            backward_euler(edo, dataset, time_step), \n",
    "            centered_euler(edo, dataset, time_step)\n",
    "        ]\n",
    "\n",
    "        dataset.append(results.copy())\n",
    "    "
   ]
  },
  {
   "cell_type": "code",
   "execution_count": null,
   "id": "tracked-failure",
   "metadata": {},
   "outputs": [],
   "source": []
  }
 ],
 "metadata": {
  "kernelspec": {
   "display_name": "Python 3",
   "language": "python",
   "name": "python3"
  },
  "language_info": {
   "codemirror_mode": {
    "name": "ipython",
    "version": 3
   },
   "file_extension": ".py",
   "mimetype": "text/x-python",
   "name": "python",
   "nbconvert_exporter": "python",
   "pygments_lexer": "ipython3",
   "version": "3.9.1"
  }
 },
 "nbformat": 4,
 "nbformat_minor": 5
}
